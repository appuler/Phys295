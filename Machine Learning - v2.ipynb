{
 "cells": [
  {
   "cell_type": "code",
   "execution_count": 3,
   "id": "0ec6e1cb",
   "metadata": {},
   "outputs": [],
   "source": [
    "import numpy as np\n",
    "import pandas as pd\n",
    "import matplotlib.pyplot as plt\n"
   ]
  },
  {
   "cell_type": "code",
   "execution_count": 5,
   "id": "158dd344",
   "metadata": {},
   "outputs": [],
   "source": [
    "import tensorflow as tf"
   ]
  },
  {
   "cell_type": "code",
   "execution_count": 6,
   "id": "037493c1",
   "metadata": {},
   "outputs": [],
   "source": [
    "import scipy.fftpack\n",
    "\n",
    "def smooth_data(data, window):\n",
    "    return np.convolve(y, np.ones(window)/window, mode='same')\n",
    "\n",
    "# Importing and cleaning data\n",
    "df = pd.read_csv(\"short_term_rates.csv\")\n",
    "df1 = df.iloc[:, [0, 4]]\n",
    "df1 = df1.iloc[5:, :]\n",
    "df1[\"Series Description\"] = pd.to_datetime(df1[\"Series Description\"])\n",
    "df1.iloc[:, 1] = pd.to_numeric(df1.iloc[:, 1], errors=\"coerce\")\n",
    "df1 = df1.dropna()\n",
    "df1.iloc[:, 1] = df1.iloc[:, 1].astype('float64')"
   ]
  },
  {
   "cell_type": "code",
   "execution_count": 7,
   "id": "0c316857",
   "metadata": {},
   "outputs": [],
   "source": [
    "size = 500\n",
    "padding = 50\n",
    "total_len = len(df1)\n",
    "margin = 10\n",
    "\n",
    "real_x = df1.iloc[:, 0].values\n",
    "real_y = df1.iloc[:, 1].values"
   ]
  },
  {
   "cell_type": "code",
   "execution_count": 8,
   "id": "cf11b29b",
   "metadata": {},
   "outputs": [],
   "source": [
    "def time_diff(x1, x2):\n",
    "    diff = x2 - x1\n",
    "    diff = diff / np.timedelta64(1, 'D')\n",
    "    return diff\n",
    "\n",
    "train_x = []\n",
    "train_y = []\n",
    "\n",
    "a_list = []\n",
    "ab_list = []\n",
    "sigma_list = []\n",
    "\n",
    "for i in range(padding, total_len - padding - margin):\n",
    "    start = i - padding\n",
    "    end = i + size + padding\n",
    "\n",
    "    x = real_x[start: end]\n",
    "    y = real_y[start:end]\n",
    "    smooth_y = smooth_data(y,padding)\n",
    "    smooth_y = smooth_y[padding:-1 * padding]\n",
    "    x = x[padding:-1 * padding]\n",
    "    y = y[padding:-1 * padding]\n",
    "    \n",
    "    total_days_diff = time_diff(x[0], x[len(x) - 1])\n",
    "    dt = 1 / total_days_diff\n",
    "    deltaT = (np.diff(x) / np.timedelta64(1, 'D')) * dt\n",
    "    deltaR = np.diff(smooth_y)\n",
    "    R = smooth_y[: -1]\n",
    "    Rdt = R * deltaT\n",
    "    \n",
    "    A = np.column_stack([deltaT, Rdt])\n",
    "    AT = A.T\n",
    "\n",
    "    AT_A = AT @ A\n",
    "    AT_A = AT_A.astype(float)\n",
    "    inverse_AT_A = np.linalg.inv(AT_A)\n",
    "    p = (inverse_AT_A @ AT)\n",
    "    parameters = p @ deltaR\n",
    "    \n",
    "    a = -parameters[1]  \n",
    "    ab = parameters[0]\n",
    "    a_list.append(a)\n",
    "    ab_list.append(ab)\n",
    "    \n",
    "    diffy = y - smooth_y\n",
    "    abssum = np.sum(np.abs(diffy)) / size\n",
    "    sigma = abssum / np.sqrt(dt)\n",
    "    sigma_list.append(sigma)\n",
    "    \n",
    "    train_x.append(real_y[i:i+size])\n",
    "    train_y.append([a, ab, sigma])\n",
    "\n",
    "    "
   ]
  },
  {
   "cell_type": "code",
   "execution_count": 9,
   "id": "cdf85241",
   "metadata": {},
   "outputs": [
    {
     "ename": "ModuleNotFoundError",
     "evalue": "No module named 'sklearn'",
     "output_type": "error",
     "traceback": [
      "\u001b[1;31m---------------------------------------------------------------------------\u001b[0m",
      "\u001b[1;31mModuleNotFoundError\u001b[0m                       Traceback (most recent call last)",
      "Cell \u001b[1;32mIn[9], line 2\u001b[0m\n\u001b[0;32m      1\u001b[0m \u001b[38;5;28;01mimport\u001b[39;00m\u001b[38;5;250m \u001b[39m\u001b[38;5;21;01mnumpy\u001b[39;00m\u001b[38;5;250m \u001b[39m\u001b[38;5;28;01mas\u001b[39;00m\u001b[38;5;250m \u001b[39m\u001b[38;5;21;01mnp\u001b[39;00m\n\u001b[1;32m----> 2\u001b[0m \u001b[38;5;28;01mfrom\u001b[39;00m\u001b[38;5;250m \u001b[39m\u001b[38;5;21;01msklearn\u001b[39;00m\u001b[38;5;21;01m.\u001b[39;00m\u001b[38;5;21;01mpreprocessing\u001b[39;00m\u001b[38;5;250m \u001b[39m\u001b[38;5;28;01mimport\u001b[39;00m StandardScaler\n\u001b[0;32m      3\u001b[0m \u001b[38;5;28;01mfrom\u001b[39;00m\u001b[38;5;250m \u001b[39m\u001b[38;5;21;01msklearn\u001b[39;00m\u001b[38;5;21;01m.\u001b[39;00m\u001b[38;5;21;01mmodel_selection\u001b[39;00m\u001b[38;5;250m \u001b[39m\u001b[38;5;28;01mimport\u001b[39;00m train_test_split\n\u001b[0;32m      5\u001b[0m train_x \u001b[38;5;241m=\u001b[39m np\u001b[38;5;241m.\u001b[39marray(train_x)\n",
      "\u001b[1;31mModuleNotFoundError\u001b[0m: No module named 'sklearn'"
     ]
    }
   ],
   "source": [
    "# Model normalization\n",
    "\n",
    "import numpy as np\n",
    "from sklearn.preprocessing import StandardScaler\n",
    "from sklearn.model_selection import train_test_split\n",
    "\n",
    "train_x = np.array(train_x)\n",
    "train_y = np.array(train_y)"
   ]
  },
  {
   "cell_type": "code",
   "execution_count": null,
   "id": "6f900018",
   "metadata": {},
   "outputs": [],
   "source": [
    "# actua \n",
    "from tensorflow.keras import layers, models\n",
    "import numpy as np\n",
    "\n",
    "model = models.Sequential([\n",
    "    layers.Input(shape=(500,)),\n",
    "    layers.Dense(256, activation='relu'),\n",
    "    layers.Dense(128, activation='relu'),\n",
    "    layers.Dense(64, activation='relu'),\n",
    "    layers.Dense(3)  # Final layer with 3 outputs\n",
    "])\n",
    "\n",
    "model.compile(optimizer='adam', loss='mse', metrics=['mae'])\n",
    "\n",
    "history = model.fit(train_X, train_y, epochs=20, batch_size=32, validation_split=0.2)\n"
   ]
  }
 ],
 "metadata": {
  "kernelspec": {
   "display_name": "tf",
   "language": "python",
   "name": "tf"
  },
  "language_info": {
   "codemirror_mode": {
    "name": "ipython",
    "version": 3
   },
   "file_extension": ".py",
   "mimetype": "text/x-python",
   "name": "python",
   "nbconvert_exporter": "python",
   "pygments_lexer": "ipython3",
   "version": "3.9.21"
  }
 },
 "nbformat": 4,
 "nbformat_minor": 5
}
