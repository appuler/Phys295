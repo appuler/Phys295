{
 "cells": [
  {
   "cell_type": "code",
   "execution_count": 1,
   "id": "9d46d17a",
   "metadata": {},
   "outputs": [
    {
     "ename": "ModuleNotFoundError",
     "evalue": "No module named 'tensorflow'",
     "output_type": "error",
     "traceback": [
      "\u001b[1;31m---------------------------------------------------------------------------\u001b[0m",
      "\u001b[1;31mModuleNotFoundError\u001b[0m                       Traceback (most recent call last)",
      "Input \u001b[1;32mIn [1]\u001b[0m, in \u001b[0;36m<cell line: 3>\u001b[1;34m()\u001b[0m\n\u001b[0;32m      1\u001b[0m \u001b[38;5;28;01mimport\u001b[39;00m \u001b[38;5;21;01mnumpy\u001b[39;00m \u001b[38;5;28;01mas\u001b[39;00m \u001b[38;5;21;01mnp\u001b[39;00m\n\u001b[0;32m      2\u001b[0m \u001b[38;5;28;01mimport\u001b[39;00m \u001b[38;5;21;01mpandas\u001b[39;00m \u001b[38;5;28;01mas\u001b[39;00m \u001b[38;5;21;01mpd\u001b[39;00m\n\u001b[1;32m----> 3\u001b[0m \u001b[38;5;28;01mimport\u001b[39;00m \u001b[38;5;21;01mtensorflow\u001b[39;00m \u001b[38;5;28;01mas\u001b[39;00m \u001b[38;5;21;01mtf\u001b[39;00m\n\u001b[0;32m      4\u001b[0m \u001b[38;5;28;01mfrom\u001b[39;00m \u001b[38;5;21;01msklearn\u001b[39;00m\u001b[38;5;21;01m.\u001b[39;00m\u001b[38;5;21;01mpreprocessing\u001b[39;00m \u001b[38;5;28;01mimport\u001b[39;00m MinMaxScaler\n\u001b[0;32m      5\u001b[0m \u001b[38;5;28;01mimport\u001b[39;00m \u001b[38;5;21;01mmatplotlib\u001b[39;00m\u001b[38;5;21;01m.\u001b[39;00m\u001b[38;5;21;01mpyplot\u001b[39;00m \u001b[38;5;28;01mas\u001b[39;00m \u001b[38;5;21;01mplt\u001b[39;00m\n",
      "\u001b[1;31mModuleNotFoundError\u001b[0m: No module named 'tensorflow'"
     ]
    }
   ],
   "source": [
    "import numpy as np\n",
    "import pandas as pd\n",
    "import tensorflow as tf\n",
    "from sklearn.preprocessing import MinMaxScaler\n",
    "import matplotlib.pyplot as plt\n"
   ]
  },
  {
   "cell_type": "code",
   "execution_count": null,
   "id": "7c0d793f",
   "metadata": {},
   "outputs": [],
   "source": [
    "!pip install tensorflow"
   ]
  },
  {
   "cell_type": "code",
   "execution_count": null,
   "id": "d14e0143",
   "metadata": {},
   "outputs": [],
   "source": []
  },
  {
   "cell_type": "code",
   "execution_count": null,
   "id": "761b72f3",
   "metadata": {},
   "outputs": [],
   "source": []
  },
  {
   "cell_type": "code",
   "execution_count": null,
   "id": "41d89678",
   "metadata": {},
   "outputs": [],
   "source": []
  },
  {
   "cell_type": "code",
   "execution_count": null,
   "id": "d29b944b",
   "metadata": {},
   "outputs": [],
   "source": [
    "\n",
    "# === 1. Simulate Vasicek Data ===\n",
    "def simulate_vasicek(a, b, sigma, r0, T, dt=1.0):\n",
    "    steps = int(T / dt)\n",
    "    rates = [r0]\n",
    "    for _ in range(steps):\n",
    "        dr = a * (b - rates[-1]) * dt + sigma * np.random.normal() * np.sqrt(dt)\n",
    "        rates.append(rates[-1] + dr)\n",
    "    return np.array(rates)\n",
    "\n",
    "true_a, true_b, true_sigma = 0.1, 0.03, 0.01\n",
    "r0 = 0.025\n",
    "T = 499  # 500 data points\n",
    "rates = simulate_vasicek(true_a, true_b, true_sigma, r0, T)\n",
    "\n",
    "# === 2. Preprocessing ===\n",
    "scaler = MinMaxScaler()\n",
    "rates_scaled = scaler.fit_transform(rates.reshape(-1, 1))\n",
    "\n",
    "sequence_length = 50\n",
    "X, y = [], []\n",
    "\n",
    "for i in range(len(rates_scaled) - sequence_length):\n",
    "    X.append(rates_scaled[i:i+sequence_length])\n",
    "    y.append([true_a, true_b, true_sigma])  # Known parameters for supervision\n",
    "\n",
    "X = np.array(X)\n",
    "y = np.array(y)\n",
    "\n",
    "# Reshape for LSTM: (samples, timesteps, features)\n",
    "X = X.reshape((X.shape[0], X.shape[1], 1))\n",
    "\n",
    "# === 3. Define the Model ===\n",
    "model = tf.keras.Sequential([\n",
    "    tf.keras.layers.Input(shape=(sequence_length, 1)),\n",
    "    tf.keras.layers.LSTM(64),\n",
    "    tf.keras.layers.Dense(32, activation='relu'),\n",
    "    tf.keras.layers.Dense(3)  # Output: a, b, sigma\n",
    "])\n",
    "\n",
    "model.compile(optimizer='adam', loss='mse')\n",
    "model.summary()\n",
    "\n",
    "# === 4. Train the Model ===\n",
    "history = model.fit(X, y, epochs=500, verbose=0)\n",
    "\n",
    "# === 5. Predict Parameters ===\n",
    "predicted_params = model.predict(X)\n",
    "final_pred = predicted_params[-1]\n",
    "\n",
    "print(\"\\n--- Final Predicted Parameters ---\")\n",
    "print(f\"a:      {final_pred[0]:.5f}\")\n",
    "print(f\"b:      {final_pred[1]:.5f}\")\n",
    "print(f\"sigma:  {final_pred[2]:.5f}\")\n",
    "\n",
    "# === 6. Plot loss curve ===\n",
    "plt.plot(history.history['loss'])\n",
    "plt.title(\"Training Loss\")\n",
    "plt.xlabel(\"Epoch\")\n",
    "plt.ylabel(\"MSE\")\n",
    "plt.show()"
   ]
  }
 ],
 "metadata": {
  "kernelspec": {
   "display_name": "Python 3 (ipykernel)",
   "language": "python",
   "name": "python3"
  },
  "language_info": {
   "codemirror_mode": {
    "name": "ipython",
    "version": 3
   },
   "file_extension": ".py",
   "mimetype": "text/x-python",
   "name": "python",
   "nbconvert_exporter": "python",
   "pygments_lexer": "ipython3",
   "version": "3.9.12"
  }
 },
 "nbformat": 4,
 "nbformat_minor": 5
}
