{
 "cells": [
  {
   "cell_type": "code",
   "execution_count": 1,
   "id": "9bc5c3ec",
   "metadata": {},
   "outputs": [],
   "source": [
    "import numpy as np\n",
    "import pandas as pd\n",
    "import matplotlib.pyplot as plt\n"
   ]
  },
  {
   "cell_type": "code",
   "execution_count": 2,
   "id": "9927c3cb",
   "metadata": {},
   "outputs": [],
   "source": [
    "%matplotlib inline"
   ]
  },
  {
   "cell_type": "markdown",
   "id": "5000da81",
   "metadata": {},
   "source": [
    "### Understanding of the Content\n",
    "\n",
    "Let M be a sample random walk. Let two increments of M be __t__ and __s__ such __t > s__. If X is the random variable such that the sum of which becomes a random walk, then the difference or the delta of the random walk is the sum of the random variable from s+1 to t. "
   ]
  },
  {
   "cell_type": "markdown",
   "id": "42089ebb",
   "metadata": {},
   "source": [
    "$$\n",
    "M(t) - M(s) = \\sum_{i=s+1}^{t} X_i\n",
    "$$"
   ]
  },
  {
   "cell_type": "markdown",
   "id": "a54da8fb",
   "metadata": {},
   "source": [
    "Additionally, the Variation will be the following:\n",
    "$$\n",
    "Var[ M(t) - M(s) ] = \\sum_{i=s+1}^{t} Var[X_i]\n",
    "$$\n",
    "\n",
    "\n",
    "Where\n",
    "$$\n",
    "X_i = \\begin{cases} \n",
    "      1 & \\text{if Heads} \\\\\n",
    "      -1 & \\text{if Tails} \n",
    "   \\end{cases}\n",
    "$$\n",
    "Because the variation of X_i is 1, as \n",
    "$$\\sum_{i=s+1}^{t} Var[X_i] = \\sum_{i=s+1}^{t} 1 = t - s $$"
   ]
  },
  {
   "cell_type": "markdown",
   "id": "d3a329c8",
   "metadata": {},
   "source": [
    "Then, we are going to define quadradic variation of M upto time k which will be defined as the following:\n",
    "$$ \\sum_{i=1}^{k} (M_{i + 1} - M_i)^2 = \\sum_{i=1}^{k} 1^2 = k$$"
   ]
  },
  {
   "cell_type": "markdown",
   "id": "415b43b7",
   "metadata": {},
   "source": [
    "Now we introduce another parameter n such that the variance is 1/n. Also ensure that n is a positive number so that we have the following definition of the Weiner Process:\n",
    "$$\n",
    "W(n, t) = \\frac{1}{\\sqrt{n}}M(nt)\n",
    "$$\n",
    "\n",
    "The following definition is made so that the expected value of W is 0 and that the variation between two increments is equal to the difference between the times:\n",
    "$$\n",
    "Var[W(n, t) - W(n, s)] = t - s\n",
    "$$\n",
    "\n",
    "However, to formalize the process, we need n to approach infinity. When that happens the sum of bernouli random variables tends to approximate a normal distribution by the central limit theorem which is why X will take a normal distribution now. "
   ]
  },
  {
   "cell_type": "markdown",
   "id": "ddc9814e",
   "metadata": {},
   "source": [
    "### Geometric Brownian Motion\n",
    "\n"
   ]
  },
  {
   "cell_type": "markdown",
   "id": "f2978a33",
   "metadata": {},
   "source": [
    "#### Setup\n",
    "Let H represent the number of Heads and T be the number of tails in nt trails which means both of which are scaled appropriately:\n",
    "$$ nt = H_{nt} + T_{nt} $$\n",
    "$$ M_{nt} = H_{nt} - T_{nt}$$"
   ]
  },
  {
   "cell_type": "markdown",
   "id": "ddc3ec0b",
   "metadata": {},
   "source": [
    "Consider a Stock Price S(t) such that it moves up by a factor of u and moves down by a factor of d depending on whether the coin flip landed on heads or tails. So that means the following is true:\n",
    "$$ S(t) = S(0)u^Hd^T $$\n",
    "\n",
    "Now we will let u and d be:\n",
    "$$ u = 1 + \\frac{\\sigma}{\\sqrt{n}} \\text{and} d = 1 - \\frac{\\sigma}{\\sqrt{n}} $$"
   ]
  },
  {
   "cell_type": "markdown",
   "id": "e763edae",
   "metadata": {},
   "source": [
    "*From What I understand*. The sqrt(n) term is there to ensure that the overall variance for the scaled walk will remain t. The sigma term on the top represents the volatility of a stock which is usually calculated by finding the standard deviation of the stock upto time t. This means that the volatility is also a function of t which will become important later.\n",
    "\n",
    "$$ S(t) = S(0)(1 + \\frac{\\sigma}{\\sqrt{n}})^H (1 - \\frac{\\sigma}{\\sqrt{n}})^T $$\n",
    "$$ H = \\frac{1}{2}(nt + M_{nt}) \\text{  and  } T  = \\frac{1}{2}(nt - M_{nt}) $$\n",
    "\n",
    "$$ \n",
    "S(t) = S(0)(1 + \\frac{\\sigma}{\\sqrt{n}})^{\\frac{1}{2}(nt + M_{nt})} (1 - \\frac{\\sigma}{\\sqrt{n}})^{\\frac{1}{2}(nt - M_{nt})} \n",
    "$$"
   ]
  },
  {
   "cell_type": "markdown",
   "id": "dcff5861",
   "metadata": {},
   "source": [
    "We want S(t) as n approaches infinity. This can be solved when you take the natural log of both sides and find a series approximation for ln(1+x). In the end, it simplifies to:\n",
    "\n",
    "$$ S(t) = S(0)e^{\\sigma W(t) - \\frac{1}{2}\\sigma ^2t} $$"
   ]
  },
  {
   "cell_type": "code",
   "execution_count": null,
   "id": "62c818a3",
   "metadata": {},
   "outputs": [],
   "source": []
  }
 ],
 "metadata": {
  "kernelspec": {
   "display_name": "tf",
   "language": "python",
   "name": "tf"
  },
  "language_info": {
   "codemirror_mode": {
    "name": "ipython",
    "version": 3
   },
   "file_extension": ".py",
   "mimetype": "text/x-python",
   "name": "python",
   "nbconvert_exporter": "python",
   "pygments_lexer": "ipython3",
   "version": "3.8.18"
  }
 },
 "nbformat": 4,
 "nbformat_minor": 5
}
