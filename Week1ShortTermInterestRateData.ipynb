{
 "cells": [
  {
   "cell_type": "markdown",
   "id": "5822973a",
   "metadata": {},
   "source": [
    "# The Data\n",
    "\n",
    "All the data seen here is imported from the Fed where there exists data about interest rates from the year 1962.\n"
   ]
  },
  {
   "cell_type": "code",
   "execution_count": 58,
   "id": "3eeffabe",
   "metadata": {},
   "outputs": [],
   "source": [
    "import numpy as np\n",
    "import pandas as pd"
   ]
  },
  {
   "cell_type": "code",
   "execution_count": 59,
   "id": "56f7983c",
   "metadata": {},
   "outputs": [],
   "source": [
    "df = pd.read_csv(\"short_term_rates.csv\")"
   ]
  },
  {
   "cell_type": "code",
   "execution_count": 60,
   "id": "e0f91dd2",
   "metadata": {},
   "outputs": [
    {
     "data": {
      "text/html": [
       "<div>\n",
       "<style scoped>\n",
       "    .dataframe tbody tr th:only-of-type {\n",
       "        vertical-align: middle;\n",
       "    }\n",
       "\n",
       "    .dataframe tbody tr th {\n",
       "        vertical-align: top;\n",
       "    }\n",
       "\n",
       "    .dataframe thead th {\n",
       "        text-align: right;\n",
       "    }\n",
       "</style>\n",
       "<table border=\"1\" class=\"dataframe\">\n",
       "  <thead>\n",
       "    <tr style=\"text-align: right;\">\n",
       "      <th></th>\n",
       "      <th>Series Description</th>\n",
       "      <th>Market yield on U.S. Treasury securities at 1-month  constant maturity, quoted on investment basis</th>\n",
       "      <th>Market yield on U.S. Treasury securities at 3-month  constant maturity, quoted on investment basis</th>\n",
       "      <th>Market yield on U.S. Treasury securities at 6-month  constant maturity, quoted on investment basis</th>\n",
       "      <th>Market yield on U.S. Treasury securities at 1-year  constant maturity, quoted on investment basis</th>\n",
       "      <th>Market yield on U.S. Treasury securities at 2-year  constant maturity, quoted on investment basis</th>\n",
       "      <th>Market yield on U.S. Treasury securities at 3-year  constant maturity, quoted on investment basis</th>\n",
       "      <th>Market yield on U.S. Treasury securities at 5-year  constant maturity, quoted on investment basis</th>\n",
       "      <th>Market yield on U.S. Treasury securities at 7-year  constant maturity, quoted on investment basis</th>\n",
       "      <th>Market yield on U.S. Treasury securities at 10-year  constant maturity, quoted on investment basis</th>\n",
       "      <th>Market yield on U.S. Treasury securities at 20-year  constant maturity, quoted on investment basis</th>\n",
       "      <th>Market yield on U.S. Treasury securities at 30-year  constant maturity, quoted on investment basis</th>\n",
       "    </tr>\n",
       "  </thead>\n",
       "  <tbody>\n",
       "    <tr>\n",
       "      <th>0</th>\n",
       "      <td>Unit:</td>\n",
       "      <td>Percent:_Per_Year</td>\n",
       "      <td>Percent:_Per_Year</td>\n",
       "      <td>Percent:_Per_Year</td>\n",
       "      <td>Percent:_Per_Year</td>\n",
       "      <td>Percent:_Per_Year</td>\n",
       "      <td>Percent:_Per_Year</td>\n",
       "      <td>Percent:_Per_Year</td>\n",
       "      <td>Percent:_Per_Year</td>\n",
       "      <td>Percent:_Per_Year</td>\n",
       "      <td>Percent:_Per_Year</td>\n",
       "      <td>Percent:_Per_Year</td>\n",
       "    </tr>\n",
       "    <tr>\n",
       "      <th>1</th>\n",
       "      <td>Multiplier:</td>\n",
       "      <td>1</td>\n",
       "      <td>1</td>\n",
       "      <td>1</td>\n",
       "      <td>1</td>\n",
       "      <td>1</td>\n",
       "      <td>1</td>\n",
       "      <td>1</td>\n",
       "      <td>1</td>\n",
       "      <td>1</td>\n",
       "      <td>1</td>\n",
       "      <td>1</td>\n",
       "    </tr>\n",
       "    <tr>\n",
       "      <th>2</th>\n",
       "      <td>Currency:</td>\n",
       "      <td>NaN</td>\n",
       "      <td>NaN</td>\n",
       "      <td>NaN</td>\n",
       "      <td>NaN</td>\n",
       "      <td>NaN</td>\n",
       "      <td>NaN</td>\n",
       "      <td>NaN</td>\n",
       "      <td>NaN</td>\n",
       "      <td>NaN</td>\n",
       "      <td>NaN</td>\n",
       "      <td>NaN</td>\n",
       "    </tr>\n",
       "    <tr>\n",
       "      <th>3</th>\n",
       "      <td>Unique Identifier:</td>\n",
       "      <td>H15/H15/RIFLGFCM01_N.B</td>\n",
       "      <td>H15/H15/RIFLGFCM03_N.B</td>\n",
       "      <td>H15/H15/RIFLGFCM06_N.B</td>\n",
       "      <td>H15/H15/RIFLGFCY01_N.B</td>\n",
       "      <td>H15/H15/RIFLGFCY02_N.B</td>\n",
       "      <td>H15/H15/RIFLGFCY03_N.B</td>\n",
       "      <td>H15/H15/RIFLGFCY05_N.B</td>\n",
       "      <td>H15/H15/RIFLGFCY07_N.B</td>\n",
       "      <td>H15/H15/RIFLGFCY10_N.B</td>\n",
       "      <td>H15/H15/RIFLGFCY20_N.B</td>\n",
       "      <td>H15/H15/RIFLGFCY30_N.B</td>\n",
       "    </tr>\n",
       "    <tr>\n",
       "      <th>4</th>\n",
       "      <td>Time Period</td>\n",
       "      <td>RIFLGFCM01_N.B</td>\n",
       "      <td>RIFLGFCM03_N.B</td>\n",
       "      <td>RIFLGFCM06_N.B</td>\n",
       "      <td>RIFLGFCY01_N.B</td>\n",
       "      <td>RIFLGFCY02_N.B</td>\n",
       "      <td>RIFLGFCY03_N.B</td>\n",
       "      <td>RIFLGFCY05_N.B</td>\n",
       "      <td>RIFLGFCY07_N.B</td>\n",
       "      <td>RIFLGFCY10_N.B</td>\n",
       "      <td>RIFLGFCY20_N.B</td>\n",
       "      <td>RIFLGFCY30_N.B</td>\n",
       "    </tr>\n",
       "    <tr>\n",
       "      <th>5</th>\n",
       "      <td>1962-01-02</td>\n",
       "      <td>NaN</td>\n",
       "      <td>NaN</td>\n",
       "      <td>NaN</td>\n",
       "      <td>3.22</td>\n",
       "      <td>NaN</td>\n",
       "      <td>3.70</td>\n",
       "      <td>3.88</td>\n",
       "      <td>NaN</td>\n",
       "      <td>4.06</td>\n",
       "      <td>4.07</td>\n",
       "      <td>NaN</td>\n",
       "    </tr>\n",
       "    <tr>\n",
       "      <th>6</th>\n",
       "      <td>1962-01-03</td>\n",
       "      <td>NaN</td>\n",
       "      <td>NaN</td>\n",
       "      <td>NaN</td>\n",
       "      <td>3.24</td>\n",
       "      <td>NaN</td>\n",
       "      <td>3.70</td>\n",
       "      <td>3.87</td>\n",
       "      <td>NaN</td>\n",
       "      <td>4.03</td>\n",
       "      <td>4.07</td>\n",
       "      <td>NaN</td>\n",
       "    </tr>\n",
       "    <tr>\n",
       "      <th>7</th>\n",
       "      <td>1962-01-04</td>\n",
       "      <td>NaN</td>\n",
       "      <td>NaN</td>\n",
       "      <td>NaN</td>\n",
       "      <td>3.24</td>\n",
       "      <td>NaN</td>\n",
       "      <td>3.69</td>\n",
       "      <td>3.86</td>\n",
       "      <td>NaN</td>\n",
       "      <td>3.99</td>\n",
       "      <td>4.06</td>\n",
       "      <td>NaN</td>\n",
       "    </tr>\n",
       "    <tr>\n",
       "      <th>8</th>\n",
       "      <td>1962-01-05</td>\n",
       "      <td>NaN</td>\n",
       "      <td>NaN</td>\n",
       "      <td>NaN</td>\n",
       "      <td>3.26</td>\n",
       "      <td>NaN</td>\n",
       "      <td>3.71</td>\n",
       "      <td>3.89</td>\n",
       "      <td>NaN</td>\n",
       "      <td>4.02</td>\n",
       "      <td>4.07</td>\n",
       "      <td>NaN</td>\n",
       "    </tr>\n",
       "    <tr>\n",
       "      <th>9</th>\n",
       "      <td>1962-01-08</td>\n",
       "      <td>NaN</td>\n",
       "      <td>NaN</td>\n",
       "      <td>NaN</td>\n",
       "      <td>3.31</td>\n",
       "      <td>NaN</td>\n",
       "      <td>3.71</td>\n",
       "      <td>3.91</td>\n",
       "      <td>NaN</td>\n",
       "      <td>4.03</td>\n",
       "      <td>4.08</td>\n",
       "      <td>NaN</td>\n",
       "    </tr>\n",
       "  </tbody>\n",
       "</table>\n",
       "</div>"
      ],
      "text/plain": [
       "   Series Description  \\\n",
       "0               Unit:   \n",
       "1         Multiplier:   \n",
       "2           Currency:   \n",
       "3  Unique Identifier:   \n",
       "4         Time Period   \n",
       "5          1962-01-02   \n",
       "6          1962-01-03   \n",
       "7          1962-01-04   \n",
       "8          1962-01-05   \n",
       "9          1962-01-08   \n",
       "\n",
       "  Market yield on U.S. Treasury securities at 1-month  constant maturity, quoted on investment basis  \\\n",
       "0                                  Percent:_Per_Year                                                   \n",
       "1                                                  1                                                   \n",
       "2                                                NaN                                                   \n",
       "3                             H15/H15/RIFLGFCM01_N.B                                                   \n",
       "4                                     RIFLGFCM01_N.B                                                   \n",
       "5                                                NaN                                                   \n",
       "6                                                NaN                                                   \n",
       "7                                                NaN                                                   \n",
       "8                                                NaN                                                   \n",
       "9                                                NaN                                                   \n",
       "\n",
       "  Market yield on U.S. Treasury securities at 3-month  constant maturity, quoted on investment basis  \\\n",
       "0                                  Percent:_Per_Year                                                   \n",
       "1                                                  1                                                   \n",
       "2                                                NaN                                                   \n",
       "3                             H15/H15/RIFLGFCM03_N.B                                                   \n",
       "4                                     RIFLGFCM03_N.B                                                   \n",
       "5                                                NaN                                                   \n",
       "6                                                NaN                                                   \n",
       "7                                                NaN                                                   \n",
       "8                                                NaN                                                   \n",
       "9                                                NaN                                                   \n",
       "\n",
       "  Market yield on U.S. Treasury securities at 6-month  constant maturity, quoted on investment basis  \\\n",
       "0                                  Percent:_Per_Year                                                   \n",
       "1                                                  1                                                   \n",
       "2                                                NaN                                                   \n",
       "3                             H15/H15/RIFLGFCM06_N.B                                                   \n",
       "4                                     RIFLGFCM06_N.B                                                   \n",
       "5                                                NaN                                                   \n",
       "6                                                NaN                                                   \n",
       "7                                                NaN                                                   \n",
       "8                                                NaN                                                   \n",
       "9                                                NaN                                                   \n",
       "\n",
       "  Market yield on U.S. Treasury securities at 1-year  constant maturity, quoted on investment basis  \\\n",
       "0                                  Percent:_Per_Year                                                  \n",
       "1                                                  1                                                  \n",
       "2                                                NaN                                                  \n",
       "3                             H15/H15/RIFLGFCY01_N.B                                                  \n",
       "4                                     RIFLGFCY01_N.B                                                  \n",
       "5                                               3.22                                                  \n",
       "6                                               3.24                                                  \n",
       "7                                               3.24                                                  \n",
       "8                                               3.26                                                  \n",
       "9                                               3.31                                                  \n",
       "\n",
       "  Market yield on U.S. Treasury securities at 2-year  constant maturity, quoted on investment basis  \\\n",
       "0                                  Percent:_Per_Year                                                  \n",
       "1                                                  1                                                  \n",
       "2                                                NaN                                                  \n",
       "3                             H15/H15/RIFLGFCY02_N.B                                                  \n",
       "4                                     RIFLGFCY02_N.B                                                  \n",
       "5                                                NaN                                                  \n",
       "6                                                NaN                                                  \n",
       "7                                                NaN                                                  \n",
       "8                                                NaN                                                  \n",
       "9                                                NaN                                                  \n",
       "\n",
       "  Market yield on U.S. Treasury securities at 3-year  constant maturity, quoted on investment basis  \\\n",
       "0                                  Percent:_Per_Year                                                  \n",
       "1                                                  1                                                  \n",
       "2                                                NaN                                                  \n",
       "3                             H15/H15/RIFLGFCY03_N.B                                                  \n",
       "4                                     RIFLGFCY03_N.B                                                  \n",
       "5                                               3.70                                                  \n",
       "6                                               3.70                                                  \n",
       "7                                               3.69                                                  \n",
       "8                                               3.71                                                  \n",
       "9                                               3.71                                                  \n",
       "\n",
       "  Market yield on U.S. Treasury securities at 5-year  constant maturity, quoted on investment basis  \\\n",
       "0                                  Percent:_Per_Year                                                  \n",
       "1                                                  1                                                  \n",
       "2                                                NaN                                                  \n",
       "3                             H15/H15/RIFLGFCY05_N.B                                                  \n",
       "4                                     RIFLGFCY05_N.B                                                  \n",
       "5                                               3.88                                                  \n",
       "6                                               3.87                                                  \n",
       "7                                               3.86                                                  \n",
       "8                                               3.89                                                  \n",
       "9                                               3.91                                                  \n",
       "\n",
       "  Market yield on U.S. Treasury securities at 7-year  constant maturity, quoted on investment basis  \\\n",
       "0                                  Percent:_Per_Year                                                  \n",
       "1                                                  1                                                  \n",
       "2                                                NaN                                                  \n",
       "3                             H15/H15/RIFLGFCY07_N.B                                                  \n",
       "4                                     RIFLGFCY07_N.B                                                  \n",
       "5                                                NaN                                                  \n",
       "6                                                NaN                                                  \n",
       "7                                                NaN                                                  \n",
       "8                                                NaN                                                  \n",
       "9                                                NaN                                                  \n",
       "\n",
       "  Market yield on U.S. Treasury securities at 10-year  constant maturity, quoted on investment basis  \\\n",
       "0                                  Percent:_Per_Year                                                   \n",
       "1                                                  1                                                   \n",
       "2                                                NaN                                                   \n",
       "3                             H15/H15/RIFLGFCY10_N.B                                                   \n",
       "4                                     RIFLGFCY10_N.B                                                   \n",
       "5                                               4.06                                                   \n",
       "6                                               4.03                                                   \n",
       "7                                               3.99                                                   \n",
       "8                                               4.02                                                   \n",
       "9                                               4.03                                                   \n",
       "\n",
       "  Market yield on U.S. Treasury securities at 20-year  constant maturity, quoted on investment basis  \\\n",
       "0                                  Percent:_Per_Year                                                   \n",
       "1                                                  1                                                   \n",
       "2                                                NaN                                                   \n",
       "3                             H15/H15/RIFLGFCY20_N.B                                                   \n",
       "4                                     RIFLGFCY20_N.B                                                   \n",
       "5                                               4.07                                                   \n",
       "6                                               4.07                                                   \n",
       "7                                               4.06                                                   \n",
       "8                                               4.07                                                   \n",
       "9                                               4.08                                                   \n",
       "\n",
       "  Market yield on U.S. Treasury securities at 30-year  constant maturity, quoted on investment basis  \n",
       "0                                  Percent:_Per_Year                                                  \n",
       "1                                                  1                                                  \n",
       "2                                                NaN                                                  \n",
       "3                             H15/H15/RIFLGFCY30_N.B                                                  \n",
       "4                                     RIFLGFCY30_N.B                                                  \n",
       "5                                                NaN                                                  \n",
       "6                                                NaN                                                  \n",
       "7                                                NaN                                                  \n",
       "8                                                NaN                                                  \n",
       "9                                                NaN                                                  "
      ]
     },
     "execution_count": 60,
     "metadata": {},
     "output_type": "execute_result"
    }
   ],
   "source": [
    "df.head(10)"
   ]
  },
  {
   "cell_type": "code",
   "execution_count": null,
   "id": "182c9a59",
   "metadata": {},
   "outputs": [],
   "source": []
  },
  {
   "cell_type": "markdown",
   "id": "6382c725",
   "metadata": {},
   "source": [
    "# Cleaning the Data\n",
    "\n",
    "### The purpose of the following cells will be to clean the data for the interest rates for 1-year treasury securities."
   ]
  },
  {
   "cell_type": "code",
   "execution_count": 61,
   "id": "1595f53e",
   "metadata": {},
   "outputs": [
    {
     "data": {
      "text/html": [
       "<div>\n",
       "<style scoped>\n",
       "    .dataframe tbody tr th:only-of-type {\n",
       "        vertical-align: middle;\n",
       "    }\n",
       "\n",
       "    .dataframe tbody tr th {\n",
       "        vertical-align: top;\n",
       "    }\n",
       "\n",
       "    .dataframe thead th {\n",
       "        text-align: right;\n",
       "    }\n",
       "</style>\n",
       "<table border=\"1\" class=\"dataframe\">\n",
       "  <thead>\n",
       "    <tr style=\"text-align: right;\">\n",
       "      <th></th>\n",
       "      <th>Series Description</th>\n",
       "      <th>Market yield on U.S. Treasury securities at 1-year  constant maturity, quoted on investment basis</th>\n",
       "    </tr>\n",
       "  </thead>\n",
       "  <tbody>\n",
       "    <tr>\n",
       "      <th>0</th>\n",
       "      <td>Unit:</td>\n",
       "      <td>Percent:_Per_Year</td>\n",
       "    </tr>\n",
       "    <tr>\n",
       "      <th>1</th>\n",
       "      <td>Multiplier:</td>\n",
       "      <td>1</td>\n",
       "    </tr>\n",
       "    <tr>\n",
       "      <th>2</th>\n",
       "      <td>Currency:</td>\n",
       "      <td>NaN</td>\n",
       "    </tr>\n",
       "    <tr>\n",
       "      <th>3</th>\n",
       "      <td>Unique Identifier:</td>\n",
       "      <td>H15/H15/RIFLGFCY01_N.B</td>\n",
       "    </tr>\n",
       "    <tr>\n",
       "      <th>4</th>\n",
       "      <td>Time Period</td>\n",
       "      <td>RIFLGFCY01_N.B</td>\n",
       "    </tr>\n",
       "    <tr>\n",
       "      <th>...</th>\n",
       "      <td>...</td>\n",
       "      <td>...</td>\n",
       "    </tr>\n",
       "    <tr>\n",
       "      <th>16459</th>\n",
       "      <td>2025-01-27</td>\n",
       "      <td>4.13</td>\n",
       "    </tr>\n",
       "    <tr>\n",
       "      <th>16460</th>\n",
       "      <td>2025-01-28</td>\n",
       "      <td>4.14</td>\n",
       "    </tr>\n",
       "    <tr>\n",
       "      <th>16461</th>\n",
       "      <td>2025-01-29</td>\n",
       "      <td>4.17</td>\n",
       "    </tr>\n",
       "    <tr>\n",
       "      <th>16462</th>\n",
       "      <td>2025-01-30</td>\n",
       "      <td>4.16</td>\n",
       "    </tr>\n",
       "    <tr>\n",
       "      <th>16463</th>\n",
       "      <td>2025-01-31</td>\n",
       "      <td>4.17</td>\n",
       "    </tr>\n",
       "  </tbody>\n",
       "</table>\n",
       "<p>16464 rows × 2 columns</p>\n",
       "</div>"
      ],
      "text/plain": [
       "       Series Description  \\\n",
       "0                   Unit:   \n",
       "1             Multiplier:   \n",
       "2               Currency:   \n",
       "3      Unique Identifier:   \n",
       "4             Time Period   \n",
       "...                   ...   \n",
       "16459          2025-01-27   \n",
       "16460          2025-01-28   \n",
       "16461          2025-01-29   \n",
       "16462          2025-01-30   \n",
       "16463          2025-01-31   \n",
       "\n",
       "      Market yield on U.S. Treasury securities at 1-year  constant maturity, quoted on investment basis  \n",
       "0                                      Percent:_Per_Year                                                 \n",
       "1                                                      1                                                 \n",
       "2                                                    NaN                                                 \n",
       "3                                 H15/H15/RIFLGFCY01_N.B                                                 \n",
       "4                                         RIFLGFCY01_N.B                                                 \n",
       "...                                                  ...                                                 \n",
       "16459                                               4.13                                                 \n",
       "16460                                               4.14                                                 \n",
       "16461                                               4.17                                                 \n",
       "16462                                               4.16                                                 \n",
       "16463                                               4.17                                                 \n",
       "\n",
       "[16464 rows x 2 columns]"
      ]
     },
     "execution_count": 61,
     "metadata": {},
     "output_type": "execute_result"
    }
   ],
   "source": [
    "df.iloc[:, [0, 4]]"
   ]
  },
  {
   "cell_type": "code",
   "execution_count": 62,
   "id": "1d583e9b",
   "metadata": {},
   "outputs": [],
   "source": [
    "df1 = df.iloc[:, [0, 4]]"
   ]
  },
  {
   "cell_type": "code",
   "execution_count": 63,
   "id": "5a7a16bb",
   "metadata": {},
   "outputs": [],
   "source": [
    "df1 = df1.iloc[5:, :]"
   ]
  },
  {
   "cell_type": "code",
   "execution_count": 64,
   "id": "5135ff0c",
   "metadata": {},
   "outputs": [
    {
     "data": {
      "text/html": [
       "<div>\n",
       "<style scoped>\n",
       "    .dataframe tbody tr th:only-of-type {\n",
       "        vertical-align: middle;\n",
       "    }\n",
       "\n",
       "    .dataframe tbody tr th {\n",
       "        vertical-align: top;\n",
       "    }\n",
       "\n",
       "    .dataframe thead th {\n",
       "        text-align: right;\n",
       "    }\n",
       "</style>\n",
       "<table border=\"1\" class=\"dataframe\">\n",
       "  <thead>\n",
       "    <tr style=\"text-align: right;\">\n",
       "      <th></th>\n",
       "      <th>Series Description</th>\n",
       "      <th>Market yield on U.S. Treasury securities at 1-year  constant maturity, quoted on investment basis</th>\n",
       "    </tr>\n",
       "  </thead>\n",
       "  <tbody>\n",
       "    <tr>\n",
       "      <th>5</th>\n",
       "      <td>1962-01-02</td>\n",
       "      <td>3.22</td>\n",
       "    </tr>\n",
       "    <tr>\n",
       "      <th>6</th>\n",
       "      <td>1962-01-03</td>\n",
       "      <td>3.24</td>\n",
       "    </tr>\n",
       "    <tr>\n",
       "      <th>7</th>\n",
       "      <td>1962-01-04</td>\n",
       "      <td>3.24</td>\n",
       "    </tr>\n",
       "    <tr>\n",
       "      <th>8</th>\n",
       "      <td>1962-01-05</td>\n",
       "      <td>3.26</td>\n",
       "    </tr>\n",
       "    <tr>\n",
       "      <th>9</th>\n",
       "      <td>1962-01-08</td>\n",
       "      <td>3.31</td>\n",
       "    </tr>\n",
       "    <tr>\n",
       "      <th>...</th>\n",
       "      <td>...</td>\n",
       "      <td>...</td>\n",
       "    </tr>\n",
       "    <tr>\n",
       "      <th>16459</th>\n",
       "      <td>2025-01-27</td>\n",
       "      <td>4.13</td>\n",
       "    </tr>\n",
       "    <tr>\n",
       "      <th>16460</th>\n",
       "      <td>2025-01-28</td>\n",
       "      <td>4.14</td>\n",
       "    </tr>\n",
       "    <tr>\n",
       "      <th>16461</th>\n",
       "      <td>2025-01-29</td>\n",
       "      <td>4.17</td>\n",
       "    </tr>\n",
       "    <tr>\n",
       "      <th>16462</th>\n",
       "      <td>2025-01-30</td>\n",
       "      <td>4.16</td>\n",
       "    </tr>\n",
       "    <tr>\n",
       "      <th>16463</th>\n",
       "      <td>2025-01-31</td>\n",
       "      <td>4.17</td>\n",
       "    </tr>\n",
       "  </tbody>\n",
       "</table>\n",
       "<p>16459 rows × 2 columns</p>\n",
       "</div>"
      ],
      "text/plain": [
       "      Series Description  \\\n",
       "5             1962-01-02   \n",
       "6             1962-01-03   \n",
       "7             1962-01-04   \n",
       "8             1962-01-05   \n",
       "9             1962-01-08   \n",
       "...                  ...   \n",
       "16459         2025-01-27   \n",
       "16460         2025-01-28   \n",
       "16461         2025-01-29   \n",
       "16462         2025-01-30   \n",
       "16463         2025-01-31   \n",
       "\n",
       "      Market yield on U.S. Treasury securities at 1-year  constant maturity, quoted on investment basis  \n",
       "5                                                   3.22                                                 \n",
       "6                                                   3.24                                                 \n",
       "7                                                   3.24                                                 \n",
       "8                                                   3.26                                                 \n",
       "9                                                   3.31                                                 \n",
       "...                                                  ...                                                 \n",
       "16459                                               4.13                                                 \n",
       "16460                                               4.14                                                 \n",
       "16461                                               4.17                                                 \n",
       "16462                                               4.16                                                 \n",
       "16463                                               4.17                                                 \n",
       "\n",
       "[16459 rows x 2 columns]"
      ]
     },
     "execution_count": 64,
     "metadata": {},
     "output_type": "execute_result"
    }
   ],
   "source": [
    "df1"
   ]
  },
  {
   "cell_type": "code",
   "execution_count": 65,
   "id": "4a11d6e0",
   "metadata": {},
   "outputs": [
    {
     "data": {
      "text/plain": [
       "5        1962-01-02\n",
       "6        1962-01-03\n",
       "7        1962-01-04\n",
       "8        1962-01-05\n",
       "9        1962-01-08\n",
       "            ...    \n",
       "16459    2025-01-27\n",
       "16460    2025-01-28\n",
       "16461    2025-01-29\n",
       "16462    2025-01-30\n",
       "16463    2025-01-31\n",
       "Name: Series Description, Length: 16459, dtype: object"
      ]
     },
     "execution_count": 65,
     "metadata": {},
     "output_type": "execute_result"
    }
   ],
   "source": [
    "df1[\"Series Description\"]"
   ]
  },
  {
   "cell_type": "code",
   "execution_count": 66,
   "id": "fee7c17e",
   "metadata": {},
   "outputs": [],
   "source": [
    "df1[\"Series Description\"] = pd.to_datetime(df1[\"Series Description\"])"
   ]
  },
  {
   "cell_type": "code",
   "execution_count": 67,
   "id": "1ba3d7cc",
   "metadata": {},
   "outputs": [
    {
     "data": {
      "text/plain": [
       "5       1962-01-02\n",
       "6       1962-01-03\n",
       "7       1962-01-04\n",
       "8       1962-01-05\n",
       "9       1962-01-08\n",
       "           ...    \n",
       "16459   2025-01-27\n",
       "16460   2025-01-28\n",
       "16461   2025-01-29\n",
       "16462   2025-01-30\n",
       "16463   2025-01-31\n",
       "Name: Series Description, Length: 16459, dtype: datetime64[ns]"
      ]
     },
     "execution_count": 67,
     "metadata": {},
     "output_type": "execute_result"
    }
   ],
   "source": [
    "df1[\"Series Description\"]"
   ]
  },
  {
   "cell_type": "code",
   "execution_count": 68,
   "id": "db1151d2",
   "metadata": {},
   "outputs": [
    {
     "data": {
      "text/plain": [
       "5        3.22\n",
       "6        3.24\n",
       "7        3.24\n",
       "8        3.26\n",
       "9        3.31\n",
       "         ... \n",
       "16459    4.13\n",
       "16460    4.14\n",
       "16461    4.17\n",
       "16462    4.16\n",
       "16463    4.17\n",
       "Name: Market yield on U.S. Treasury securities at 1-year  constant maturity, quoted on investment basis, Length: 16459, dtype: object"
      ]
     },
     "execution_count": 68,
     "metadata": {},
     "output_type": "execute_result"
    }
   ],
   "source": [
    "df1.iloc[:, 1]"
   ]
  },
  {
   "cell_type": "code",
   "execution_count": 69,
   "id": "e8948563",
   "metadata": {},
   "outputs": [],
   "source": [
    "df1.iloc[:, 1] = pd.to_numeric(df1.iloc[:, 1], errors=\"coerce\")"
   ]
  },
  {
   "cell_type": "code",
   "execution_count": 72,
   "id": "5656f179",
   "metadata": {},
   "outputs": [
    {
     "data": {
      "text/html": [
       "<div>\n",
       "<style scoped>\n",
       "    .dataframe tbody tr th:only-of-type {\n",
       "        vertical-align: middle;\n",
       "    }\n",
       "\n",
       "    .dataframe tbody tr th {\n",
       "        vertical-align: top;\n",
       "    }\n",
       "\n",
       "    .dataframe thead th {\n",
       "        text-align: right;\n",
       "    }\n",
       "</style>\n",
       "<table border=\"1\" class=\"dataframe\">\n",
       "  <thead>\n",
       "    <tr style=\"text-align: right;\">\n",
       "      <th></th>\n",
       "      <th>Series Description</th>\n",
       "      <th>Market yield on U.S. Treasury securities at 1-year  constant maturity, quoted on investment basis</th>\n",
       "    </tr>\n",
       "  </thead>\n",
       "  <tbody>\n",
       "    <tr>\n",
       "      <th>5</th>\n",
       "      <td>1962-01-02</td>\n",
       "      <td>3.22</td>\n",
       "    </tr>\n",
       "    <tr>\n",
       "      <th>6</th>\n",
       "      <td>1962-01-03</td>\n",
       "      <td>3.24</td>\n",
       "    </tr>\n",
       "    <tr>\n",
       "      <th>7</th>\n",
       "      <td>1962-01-04</td>\n",
       "      <td>3.24</td>\n",
       "    </tr>\n",
       "    <tr>\n",
       "      <th>8</th>\n",
       "      <td>1962-01-05</td>\n",
       "      <td>3.26</td>\n",
       "    </tr>\n",
       "    <tr>\n",
       "      <th>9</th>\n",
       "      <td>1962-01-08</td>\n",
       "      <td>3.31</td>\n",
       "    </tr>\n",
       "    <tr>\n",
       "      <th>...</th>\n",
       "      <td>...</td>\n",
       "      <td>...</td>\n",
       "    </tr>\n",
       "    <tr>\n",
       "      <th>16459</th>\n",
       "      <td>2025-01-27</td>\n",
       "      <td>4.13</td>\n",
       "    </tr>\n",
       "    <tr>\n",
       "      <th>16460</th>\n",
       "      <td>2025-01-28</td>\n",
       "      <td>4.14</td>\n",
       "    </tr>\n",
       "    <tr>\n",
       "      <th>16461</th>\n",
       "      <td>2025-01-29</td>\n",
       "      <td>4.17</td>\n",
       "    </tr>\n",
       "    <tr>\n",
       "      <th>16462</th>\n",
       "      <td>2025-01-30</td>\n",
       "      <td>4.16</td>\n",
       "    </tr>\n",
       "    <tr>\n",
       "      <th>16463</th>\n",
       "      <td>2025-01-31</td>\n",
       "      <td>4.17</td>\n",
       "    </tr>\n",
       "  </tbody>\n",
       "</table>\n",
       "<p>15756 rows × 2 columns</p>\n",
       "</div>"
      ],
      "text/plain": [
       "      Series Description  \\\n",
       "5             1962-01-02   \n",
       "6             1962-01-03   \n",
       "7             1962-01-04   \n",
       "8             1962-01-05   \n",
       "9             1962-01-08   \n",
       "...                  ...   \n",
       "16459         2025-01-27   \n",
       "16460         2025-01-28   \n",
       "16461         2025-01-29   \n",
       "16462         2025-01-30   \n",
       "16463         2025-01-31   \n",
       "\n",
       "      Market yield on U.S. Treasury securities at 1-year  constant maturity, quoted on investment basis  \n",
       "5                                                   3.22                                                 \n",
       "6                                                   3.24                                                 \n",
       "7                                                   3.24                                                 \n",
       "8                                                   3.26                                                 \n",
       "9                                                   3.31                                                 \n",
       "...                                                  ...                                                 \n",
       "16459                                               4.13                                                 \n",
       "16460                                               4.14                                                 \n",
       "16461                                               4.17                                                 \n",
       "16462                                               4.16                                                 \n",
       "16463                                               4.17                                                 \n",
       "\n",
       "[15756 rows x 2 columns]"
      ]
     },
     "execution_count": 72,
     "metadata": {},
     "output_type": "execute_result"
    }
   ],
   "source": [
    "df1.dropna()"
   ]
  },
  {
   "cell_type": "code",
   "execution_count": 77,
   "id": "b04f99f2",
   "metadata": {},
   "outputs": [],
   "source": [
    "df1.iloc[:, 1] = df1.iloc[:, 1].astype('float64')"
   ]
  },
  {
   "cell_type": "code",
   "execution_count": 78,
   "id": "0e53085f",
   "metadata": {},
   "outputs": [
    {
     "data": {
      "text/plain": [
       "5        3.22\n",
       "6        3.24\n",
       "7        3.24\n",
       "8        3.26\n",
       "9        3.31\n",
       "         ... \n",
       "16459    4.13\n",
       "16460    4.14\n",
       "16461    4.17\n",
       "16462    4.16\n",
       "16463    4.17\n",
       "Name: Market yield on U.S. Treasury securities at 1-year  constant maturity, quoted on investment basis, Length: 16459, dtype: object"
      ]
     },
     "execution_count": 78,
     "metadata": {},
     "output_type": "execute_result"
    }
   ],
   "source": [
    "df1.iloc[:, 1]"
   ]
  },
  {
   "cell_type": "code",
   "execution_count": null,
   "id": "04a38093",
   "metadata": {},
   "outputs": [],
   "source": []
  },
  {
   "cell_type": "markdown",
   "id": "b5c6d64c",
   "metadata": {},
   "source": [
    "## Graphing the Data\n",
    "\n",
    "#### Now that we have the data, we will graph it using matplotlib"
   ]
  },
  {
   "cell_type": "code",
   "execution_count": 80,
   "id": "8b9952e1",
   "metadata": {},
   "outputs": [],
   "source": [
    "import matplotlib.pyplot as plt\n"
   ]
  },
  {
   "cell_type": "code",
   "execution_count": 26,
   "id": "4e454234",
   "metadata": {},
   "outputs": [],
   "source": [
    "%matplotlib inline"
   ]
  },
  {
   "cell_type": "code",
   "execution_count": 83,
   "id": "2280bf2a",
   "metadata": {},
   "outputs": [
    {
     "data": {
      "text/plain": [
       "(array([-7305., -3653.,     0.,  3652.,  7305., 10957., 14610., 18262.,\n",
       "        21915.]),\n",
       " [Text(0, 0, ''),\n",
       "  Text(0, 0, ''),\n",
       "  Text(0, 0, ''),\n",
       "  Text(0, 0, ''),\n",
       "  Text(0, 0, ''),\n",
       "  Text(0, 0, ''),\n",
       "  Text(0, 0, ''),\n",
       "  Text(0, 0, ''),\n",
       "  Text(0, 0, '')])"
      ]
     },
     "execution_count": 83,
     "metadata": {},
     "output_type": "execute_result"
    },
    {
     "data": {
      "image/png": "[encoded data removed]",
      "text/plain": [
       "<Figure size 1200x600 with 1 Axes>"
      ]
     },
     "metadata": {},
     "output_type": "display_data"
    }
   ],
   "source": [
    "#\n",
    "\n",
    "plt.figure(figsize=(12, 6))\n",
    "plt.plot(df1.iloc[:, 0].values, df1.iloc[:, 1].values, label=\"Time Series Data\")\n",
    "plt.xlabel(\"Timestamp\")\n",
    "plt.ylabel(\"Value\")\n",
    "plt.title(\"Time Series Plot\")\n",
    "plt.xticks(rotation=45)  # Rotate x-axis labels for better readability\n"
   ]
  },
  {
   "cell_type": "code",
   "execution_count": 84,
   "id": "50ed4be3",
   "metadata": {},
   "outputs": [],
   "source": [
    "import random"
   ]
  },
  {
   "cell_type": "code",
   "execution_count": 85,
   "id": "32fb30d6",
   "metadata": {},
   "outputs": [],
   "source": [
    "random.seed(42)"
   ]
  },
  {
   "cell_type": "code",
   "execution_count": 86,
   "id": "3963596c",
   "metadata": {},
   "outputs": [],
   "source": [
    "start = random.randint(1, 15756 - 365)\n",
    "end = start + 365"
   ]
  },
  {
   "cell_type": "code",
   "execution_count": 87,
   "id": "4e249fac",
   "metadata": {},
   "outputs": [],
   "source": [
    "x = df1.iloc[:, 0].values\n",
    "y = df1.iloc[:, 1].values\n",
    "\n",
    "x = x[start: end]\n",
    "y = y[start:end]"
   ]
  },
  {
   "cell_type": "code",
   "execution_count": 88,
   "id": "60d5f276",
   "metadata": {},
   "outputs": [
    {
     "data": {
      "text/plain": [
       "(array([11747., 11808., 11869., 11931., 11992., 12053., 12112., 12173.,\n",
       "        12234.]),\n",
       " [Text(0, 0, ''),\n",
       "  Text(0, 0, ''),\n",
       "  Text(0, 0, ''),\n",
       "  Text(0, 0, ''),\n",
       "  Text(0, 0, ''),\n",
       "  Text(0, 0, ''),\n",
       "  Text(0, 0, ''),\n",
       "  Text(0, 0, ''),\n",
       "  Text(0, 0, '')])"
      ]
     },
     "execution_count": 88,
     "metadata": {},
     "output_type": "execute_result"
    },
    {
     "data": {
      "image/png": "[encoded data removed]",
      "text/plain": [
       "<Figure size 1200x600 with 1 Axes>"
      ]
     },
     "metadata": {},
     "output_type": "display_data"
    }
   ],
   "source": [
    "#Now to plot a random year\n",
    "\n",
    "\n",
    "\n",
    "plt.figure(figsize=(12, 6))\n",
    "plt.plot(x, y, label=\"Time Series Data\")\n",
    "plt.xlabel(\"Timestamp\")\n",
    "plt.ylabel(\"Value\")\n",
    "plt.title(\"Time Series Plot\")\n",
    "plt.xticks(rotation=45)  # Rotate x-axis labels for better readability"
   ]
  },
  {
   "cell_type": "code",
   "execution_count": 93,
   "id": "4c1589f9",
   "metadata": {},
   "outputs": [],
   "source": [
    "# Now for actual short term interest rates - 1 month time scale\n",
    "\n",
    "\n",
    "random.seed(81)"
   ]
  },
  {
   "cell_type": "code",
   "execution_count": 94,
   "id": "3dfa279a",
   "metadata": {},
   "outputs": [],
   "source": [
    "start = random.randint(1, 15756 - 30)\n",
    "end = start + 30"
   ]
  },
  {
   "cell_type": "code",
   "execution_count": 95,
   "id": "f2c05741",
   "metadata": {},
   "outputs": [],
   "source": [
    "x = df1.iloc[:, 0].values\n",
    "y = df1.iloc[:, 1].values\n",
    "\n",
    "x = x[start: end]\n",
    "y = y[start:end]"
   ]
  },
  {
   "cell_type": "code",
   "execution_count": 96,
   "id": "e2e9a3f7",
   "metadata": {},
   "outputs": [
    {
     "data": {
      "text/plain": [
       "(array([8688., 8695., 8705., 8712., 8719., 8726.]),\n",
       " [Text(0, 0, ''),\n",
       "  Text(0, 0, ''),\n",
       "  Text(0, 0, ''),\n",
       "  Text(0, 0, ''),\n",
       "  Text(0, 0, ''),\n",
       "  Text(0, 0, '')])"
      ]
     },
     "execution_count": 96,
     "metadata": {},
     "output_type": "execute_result"
    },
    {
     "data": {
      "image/png": "[encoded data removed]",
      "text/plain": [
       "<Figure size 1200x600 with 1 Axes>"
      ]
     },
     "metadata": {},
     "output_type": "display_data"
    }
   ],
   "source": [
    "plt.figure(figsize=(12, 6))\n",
    "plt.plot(x, y, label=\"Time Series Data\")\n",
    "plt.xlabel(\"Timestamp\")\n",
    "plt.ylabel(\"Value\")\n",
    "plt.title(\"Time Series Plot\")\n",
    "plt.xticks(rotation=45)  # Rotate x-axis labels for better readability"
   ]
  },
  {
   "cell_type": "code",
   "execution_count": null,
   "id": "1fbbdd7c",
   "metadata": {},
   "outputs": [],
   "source": []
  }
 ],
 "metadata": {
  "kernelspec": {
   "display_name": "tf",
   "language": "python",
   "name": "tf"
  },
  "language_info": {
   "codemirror_mode": {
    "name": "ipython",
    "version": 3
   },
   "file_extension": ".py",
   "mimetype": "text/x-python",
   "name": "python",
   "nbconvert_exporter": "python",
   "pygments_lexer": "ipython3",
   "version": "3.8.18"
  }
 },
 "nbformat": 4,
 "nbformat_minor": 5
}
