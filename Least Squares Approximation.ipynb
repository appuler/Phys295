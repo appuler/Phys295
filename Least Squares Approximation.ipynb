{
 "cells": [
  {
   "cell_type": "code",
   "execution_count": 48,
   "id": "1df89023",
   "metadata": {},
   "outputs": [],
   "source": [
    "import numpy as np\n",
    "import pandas as pd\n",
    "import matplotlib.pyplot as plt"
   ]
  },
  {
   "cell_type": "code",
   "execution_count": 49,
   "id": "0060170f",
   "metadata": {},
   "outputs": [],
   "source": [
    "df = pd.read_csv(\"short_term_rates.csv\")"
   ]
  },
  {
   "cell_type": "code",
   "execution_count": 50,
   "id": "85b4d5ff",
   "metadata": {},
   "outputs": [
    {
     "data": {
      "text/html": [
       "<div>\n",
       "<style scoped>\n",
       "    .dataframe tbody tr th:only-of-type {\n",
       "        vertical-align: middle;\n",
       "    }\n",
       "\n",
       "    .dataframe tbody tr th {\n",
       "        vertical-align: top;\n",
       "    }\n",
       "\n",
       "    .dataframe thead th {\n",
       "        text-align: right;\n",
       "    }\n",
       "</style>\n",
       "<table border=\"1\" class=\"dataframe\">\n",
       "  <thead>\n",
       "    <tr style=\"text-align: right;\">\n",
       "      <th></th>\n",
       "      <th>Series Description</th>\n",
       "      <th>Market yield on U.S. Treasury securities at 1-year  constant maturity, quoted on investment basis</th>\n",
       "    </tr>\n",
       "  </thead>\n",
       "  <tbody>\n",
       "    <tr>\n",
       "      <th>0</th>\n",
       "      <td>Unit:</td>\n",
       "      <td>Percent:_Per_Year</td>\n",
       "    </tr>\n",
       "    <tr>\n",
       "      <th>1</th>\n",
       "      <td>Multiplier:</td>\n",
       "      <td>1</td>\n",
       "    </tr>\n",
       "    <tr>\n",
       "      <th>2</th>\n",
       "      <td>Currency:</td>\n",
       "      <td>NaN</td>\n",
       "    </tr>\n",
       "    <tr>\n",
       "      <th>3</th>\n",
       "      <td>Unique Identifier:</td>\n",
       "      <td>H15/H15/RIFLGFCY01_N.B</td>\n",
       "    </tr>\n",
       "    <tr>\n",
       "      <th>4</th>\n",
       "      <td>Time Period</td>\n",
       "      <td>RIFLGFCY01_N.B</td>\n",
       "    </tr>\n",
       "    <tr>\n",
       "      <th>...</th>\n",
       "      <td>...</td>\n",
       "      <td>...</td>\n",
       "    </tr>\n",
       "    <tr>\n",
       "      <th>16459</th>\n",
       "      <td>2025-01-27</td>\n",
       "      <td>4.13</td>\n",
       "    </tr>\n",
       "    <tr>\n",
       "      <th>16460</th>\n",
       "      <td>2025-01-28</td>\n",
       "      <td>4.14</td>\n",
       "    </tr>\n",
       "    <tr>\n",
       "      <th>16461</th>\n",
       "      <td>2025-01-29</td>\n",
       "      <td>4.17</td>\n",
       "    </tr>\n",
       "    <tr>\n",
       "      <th>16462</th>\n",
       "      <td>2025-01-30</td>\n",
       "      <td>4.16</td>\n",
       "    </tr>\n",
       "    <tr>\n",
       "      <th>16463</th>\n",
       "      <td>2025-01-31</td>\n",
       "      <td>4.17</td>\n",
       "    </tr>\n",
       "  </tbody>\n",
       "</table>\n",
       "<p>16464 rows × 2 columns</p>\n",
       "</div>"
      ],
      "text/plain": [
       "       Series Description  \\\n",
       "0                   Unit:   \n",
       "1             Multiplier:   \n",
       "2               Currency:   \n",
       "3      Unique Identifier:   \n",
       "4             Time Period   \n",
       "...                   ...   \n",
       "16459          2025-01-27   \n",
       "16460          2025-01-28   \n",
       "16461          2025-01-29   \n",
       "16462          2025-01-30   \n",
       "16463          2025-01-31   \n",
       "\n",
       "      Market yield on U.S. Treasury securities at 1-year  constant maturity, quoted on investment basis  \n",
       "0                                      Percent:_Per_Year                                                 \n",
       "1                                                      1                                                 \n",
       "2                                                    NaN                                                 \n",
       "3                                 H15/H15/RIFLGFCY01_N.B                                                 \n",
       "4                                         RIFLGFCY01_N.B                                                 \n",
       "...                                                  ...                                                 \n",
       "16459                                               4.13                                                 \n",
       "16460                                               4.14                                                 \n",
       "16461                                               4.17                                                 \n",
       "16462                                               4.16                                                 \n",
       "16463                                               4.17                                                 \n",
       "\n",
       "[16464 rows x 2 columns]"
      ]
     },
     "execution_count": 50,
     "metadata": {},
     "output_type": "execute_result"
    }
   ],
   "source": [
    "df1 = df.iloc[:, [0, 4]]\n",
    "df1"
   ]
  },
  {
   "cell_type": "code",
   "execution_count": 51,
   "id": "a5ab3d1e",
   "metadata": {},
   "outputs": [
    {
     "data": {
      "text/html": [
       "<div>\n",
       "<style scoped>\n",
       "    .dataframe tbody tr th:only-of-type {\n",
       "        vertical-align: middle;\n",
       "    }\n",
       "\n",
       "    .dataframe tbody tr th {\n",
       "        vertical-align: top;\n",
       "    }\n",
       "\n",
       "    .dataframe thead th {\n",
       "        text-align: right;\n",
       "    }\n",
       "</style>\n",
       "<table border=\"1\" class=\"dataframe\">\n",
       "  <thead>\n",
       "    <tr style=\"text-align: right;\">\n",
       "      <th></th>\n",
       "      <th>Series Description</th>\n",
       "      <th>Market yield on U.S. Treasury securities at 1-year  constant maturity, quoted on investment basis</th>\n",
       "    </tr>\n",
       "  </thead>\n",
       "  <tbody>\n",
       "    <tr>\n",
       "      <th>5</th>\n",
       "      <td>1962-01-02</td>\n",
       "      <td>3.22</td>\n",
       "    </tr>\n",
       "    <tr>\n",
       "      <th>6</th>\n",
       "      <td>1962-01-03</td>\n",
       "      <td>3.24</td>\n",
       "    </tr>\n",
       "    <tr>\n",
       "      <th>7</th>\n",
       "      <td>1962-01-04</td>\n",
       "      <td>3.24</td>\n",
       "    </tr>\n",
       "    <tr>\n",
       "      <th>8</th>\n",
       "      <td>1962-01-05</td>\n",
       "      <td>3.26</td>\n",
       "    </tr>\n",
       "    <tr>\n",
       "      <th>9</th>\n",
       "      <td>1962-01-08</td>\n",
       "      <td>3.31</td>\n",
       "    </tr>\n",
       "    <tr>\n",
       "      <th>...</th>\n",
       "      <td>...</td>\n",
       "      <td>...</td>\n",
       "    </tr>\n",
       "    <tr>\n",
       "      <th>16459</th>\n",
       "      <td>2025-01-27</td>\n",
       "      <td>4.13</td>\n",
       "    </tr>\n",
       "    <tr>\n",
       "      <th>16460</th>\n",
       "      <td>2025-01-28</td>\n",
       "      <td>4.14</td>\n",
       "    </tr>\n",
       "    <tr>\n",
       "      <th>16461</th>\n",
       "      <td>2025-01-29</td>\n",
       "      <td>4.17</td>\n",
       "    </tr>\n",
       "    <tr>\n",
       "      <th>16462</th>\n",
       "      <td>2025-01-30</td>\n",
       "      <td>4.16</td>\n",
       "    </tr>\n",
       "    <tr>\n",
       "      <th>16463</th>\n",
       "      <td>2025-01-31</td>\n",
       "      <td>4.17</td>\n",
       "    </tr>\n",
       "  </tbody>\n",
       "</table>\n",
       "<p>16459 rows × 2 columns</p>\n",
       "</div>"
      ],
      "text/plain": [
       "      Series Description  \\\n",
       "5             1962-01-02   \n",
       "6             1962-01-03   \n",
       "7             1962-01-04   \n",
       "8             1962-01-05   \n",
       "9             1962-01-08   \n",
       "...                  ...   \n",
       "16459         2025-01-27   \n",
       "16460         2025-01-28   \n",
       "16461         2025-01-29   \n",
       "16462         2025-01-30   \n",
       "16463         2025-01-31   \n",
       "\n",
       "      Market yield on U.S. Treasury securities at 1-year  constant maturity, quoted on investment basis  \n",
       "5                                                   3.22                                                 \n",
       "6                                                   3.24                                                 \n",
       "7                                                   3.24                                                 \n",
       "8                                                   3.26                                                 \n",
       "9                                                   3.31                                                 \n",
       "...                                                  ...                                                 \n",
       "16459                                               4.13                                                 \n",
       "16460                                               4.14                                                 \n",
       "16461                                               4.17                                                 \n",
       "16462                                               4.16                                                 \n",
       "16463                                               4.17                                                 \n",
       "\n",
       "[16459 rows x 2 columns]"
      ]
     },
     "execution_count": 51,
     "metadata": {},
     "output_type": "execute_result"
    }
   ],
   "source": [
    "df1 = df1.iloc[5:, :]\n",
    "df1"
   ]
  },
  {
   "cell_type": "code",
   "execution_count": 52,
   "id": "04983761",
   "metadata": {},
   "outputs": [
    {
     "name": "stderr",
     "output_type": "stream",
     "text": [
      "C:\\Users\\Adi\\AppData\\Local\\Temp\\ipykernel_17052\\1294822164.py:1: SettingWithCopyWarning: \n",
      "A value is trying to be set on a copy of a slice from a DataFrame.\n",
      "Try using .loc[row_indexer,col_indexer] = value instead\n",
      "\n",
      "See the caveats in the documentation: https://pandas.pydata.org/pandas-docs/stable/user_guide/indexing.html#returning-a-view-versus-a-copy\n",
      "  df1[\"Series Description\"] = pd.to_datetime(df1[\"Series Description\"])\n"
     ]
    }
   ],
   "source": [
    "df1[\"Series Description\"] = pd.to_datetime(df1[\"Series Description\"])\n",
    "df1.iloc[:, 1] = pd.to_numeric(df1.iloc[:, 1], errors=\"coerce\")\n",
    "df1 = df1.dropna()"
   ]
  },
  {
   "cell_type": "code",
   "execution_count": 67,
   "id": "862f6a18",
   "metadata": {},
   "outputs": [],
   "source": [
    "df1.iloc[:, 1] = df1.iloc[:, 1].astype('float64')"
   ]
  },
  {
   "cell_type": "code",
   "execution_count": 149,
   "id": "30126e6a",
   "metadata": {},
   "outputs": [],
   "source": [
    "import random\n",
    "random.seed(91)\n",
    "size = 200\n",
    "start = random.randint(10000, 15756 - size)\n",
    "end = start + size\n",
    "x = df1.iloc[:, 0].values\n",
    "y = df1.iloc[:, 1].values\n",
    "\n",
    "x = x[start: end]\n",
    "y = y[start:end]"
   ]
  },
  {
   "cell_type": "code",
   "execution_count": 150,
   "id": "99448a31",
   "metadata": {},
   "outputs": [],
   "source": [
    "def time_diff(x1, x2):\n",
    "    diff = x2 - x1\n",
    "    diff = diff / np.timedelta64(1, 'D')\n",
    "    return diff"
   ]
  },
  {
   "cell_type": "code",
   "execution_count": 151,
   "id": "effa2374",
   "metadata": {},
   "outputs": [],
   "source": [
    "total_days_diff = time_diff(x[0], x[len(x) - 1])"
   ]
  },
  {
   "cell_type": "code",
   "execution_count": 152,
   "id": "f0b0da47",
   "metadata": {},
   "outputs": [],
   "source": [
    "dt = 1 / total_days_diff"
   ]
  },
  {
   "cell_type": "code",
   "execution_count": 153,
   "id": "e3d6ec86",
   "metadata": {},
   "outputs": [],
   "source": [
    "deltaT = (np.diff(x) / np.timedelta64(1, 'D')) * dt\n"
   ]
  },
  {
   "cell_type": "code",
   "execution_count": 154,
   "id": "94413311",
   "metadata": {},
   "outputs": [],
   "source": [
    "deltaR = np.diff(y)"
   ]
  },
  {
   "cell_type": "code",
   "execution_count": 155,
   "id": "5cc5a577",
   "metadata": {},
   "outputs": [],
   "source": [
    "# exclude last value to ensure everything is the same size\n",
    "R = y[: -1]"
   ]
  },
  {
   "cell_type": "code",
   "execution_count": 156,
   "id": "2e9120f6",
   "metadata": {},
   "outputs": [],
   "source": [
    "def dW(s, dT):  \n",
    "    return np.random.normal(0, 1, s) * np.sqrt(dT)"
   ]
  },
  {
   "cell_type": "code",
   "execution_count": 157,
   "id": "4820505d",
   "metadata": {},
   "outputs": [],
   "source": [
    "dW1 = dW(size - 1, deltaT)"
   ]
  },
  {
   "cell_type": "code",
   "execution_count": 158,
   "id": "cfecc714",
   "metadata": {},
   "outputs": [],
   "source": [
    "Rdt = -1 * R*deltaT"
   ]
  },
  {
   "cell_type": "code",
   "execution_count": 159,
   "id": "8230939c",
   "metadata": {},
   "outputs": [
    {
     "data": {
      "text/plain": [
       "(199,)"
      ]
     },
     "execution_count": 159,
     "metadata": {},
     "output_type": "execute_result"
    }
   ],
   "source": [
    "deltaT.shape"
   ]
  },
  {
   "cell_type": "code",
   "execution_count": 160,
   "id": "fc19f2bc",
   "metadata": {},
   "outputs": [
    {
     "data": {
      "text/plain": [
       "(199,)"
      ]
     },
     "execution_count": 160,
     "metadata": {},
     "output_type": "execute_result"
    }
   ],
   "source": [
    "Rdt.shape"
   ]
  },
  {
   "cell_type": "code",
   "execution_count": 161,
   "id": "218ca584",
   "metadata": {},
   "outputs": [
    {
     "data": {
      "text/plain": [
       "(199,)"
      ]
     },
     "execution_count": 161,
     "metadata": {},
     "output_type": "execute_result"
    }
   ],
   "source": [
    "dW1.shape"
   ]
  },
  {
   "cell_type": "code",
   "execution_count": 162,
   "id": "366d43a4",
   "metadata": {},
   "outputs": [
    {
     "data": {
      "text/plain": [
       "array([[ 0.0068845 , -0.02144024,  0.00320119],\n",
       "       [-0.02144024,  0.06780876, -0.01144555],\n",
       "       [ 0.00320119, -0.01144555,  0.96003275]])"
      ]
     },
     "execution_count": 162,
     "metadata": {},
     "output_type": "execute_result"
    }
   ],
   "source": [
    "A = np.column_stack([deltaT, Rdt, dW1])\n",
    "AT = A.T\n",
    "\n",
    "AT_A = AT @ A\n",
    "AT_A = AT_A.astype(float)\n",
    "AT_A"
   ]
  },
  {
   "cell_type": "code",
   "execution_count": 163,
   "id": "47e6d2d4",
   "metadata": {},
   "outputs": [
    {
     "data": {
      "text/plain": [
       "array([-30.946821167004796, -155.3677485454579, -0.6827669543972108],\n",
       "      dtype=object)"
      ]
     },
     "execution_count": 163,
     "metadata": {},
     "output_type": "execute_result"
    }
   ],
   "source": [
    "inverse_AT_A = np.linalg.inv(AT_A)\n",
    "p = (inverse_AT_A @ AT)\n",
    "parameters = p @ R\n",
    "parameters"
   ]
  },
  {
   "cell_type": "code",
   "execution_count": null,
   "id": "0a3d5e60",
   "metadata": {},
   "outputs": [],
   "source": []
  },
  {
   "cell_type": "code",
   "execution_count": null,
   "id": "2ec95f74",
   "metadata": {},
   "outputs": [],
   "source": []
  }
 ],
 "metadata": {
  "kernelspec": {
   "display_name": "tf",
   "language": "python",
   "name": "tf"
  },
  "language_info": {
   "codemirror_mode": {
    "name": "ipython",
    "version": 3
   },
   "file_extension": ".py",
   "mimetype": "text/x-python",
   "name": "python",
   "nbconvert_exporter": "python",
   "pygments_lexer": "ipython3",
   "version": "3.8.18"
  }
 },
 "nbformat": 4,
 "nbformat_minor": 5
}
